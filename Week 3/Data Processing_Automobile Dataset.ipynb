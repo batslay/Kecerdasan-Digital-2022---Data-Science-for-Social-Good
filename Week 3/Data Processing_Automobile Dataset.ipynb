{
  "nbformat": 4,
  "nbformat_minor": 0,
  "metadata": {
    "colab": {
      "name": "Preprocessing Automobile Dataset.ipynb",
      "provenance": [],
      "collapsed_sections": [],
      "toc_visible": true
    },
    "kernelspec": {
      "name": "python3",
      "display_name": "Python 3"
    },
    "language_info": {
      "name": "python"
    }
  },
  "cells": [
    {
      "cell_type": "markdown",
      "source": [
        "Dataset : [Automobile Dataset](https://archive.ics.uci.edu/ml/datasets/automobile)\n",
        "\n",
        "<details><summary><b>Attribute Information</b></summary>\n",
        "\n",
        "1. symboling: -3, -2, -1, 0, 1, 2, 3.\n",
        "2. normalized-losses: continuous from 65 to 256.\n",
        "3. make:\n",
        "alfa-romero, audi, bmw, chevrolet, dodge, honda,\n",
        "isuzu, jaguar, mazda, mercedes-benz, mercury,\n",
        "mitsubishi, nissan, peugot, plymouth, porsche,\n",
        "renault, saab, subaru, toyota, volkswagen, volvo\n",
        "\n",
        "4. fuel-type: diesel, gas.\n",
        "5. aspiration: std, turbo.\n",
        "6. num-of-doors: four, two.\n",
        "7. body-style: hardtop, wagon, sedan, hatchback, convertible.\n",
        "8. drive-wheels: 4wd, fwd, rwd.\n",
        "9. engine-location: front, rear.\n",
        "10. wheel-base: continuous from 86.6 120.9.\n",
        "11. length: continuous from 141.1 to 208.1.\n",
        "12. width: continuous from 60.3 to 72.3.\n",
        "13. height: continuous from 47.8 to 59.8.\n",
        "14. curb-weight: continuous from 1488 to 4066.\n",
        "15. engine-type: dohc, dohcv, l, ohc, ohcf, ohcv, rotor.\n",
        "16. num-of-cylinders: eight, five, four, six, three, twelve, two.\n",
        "17. engine-size: continuous from 61 to 326.\n",
        "18. fuel-system: 1bbl, 2bbl, 4bbl, idi, mfi, mpfi, spdi, spfi.\n",
        "19. bore: continuous from 2.54 to 3.94.\n",
        "20. stroke: continuous from 2.07 to 4.17.\n",
        "21. compression-ratio: continuous from 7 to 23.\n",
        "22. horsepower: continuous from 48 to 288.\n",
        "23. peak-rpm: continuous from 4150 to 6600.\n",
        "24. city-mpg: continuous from 13 to 49.\n",
        "25. highway-mpg: continuous from 16 to 54.\n",
        "26. price: continuous from 5118 to 45400.\n",
        "\n",
        "</details>"
      ],
      "metadata": {
        "id": "3O-QzOkEUGTp"
      }
    },
    {
      "cell_type": "markdown",
      "source": [
        "## Reading Data"
      ],
      "metadata": {
        "id": "u8A61qInV1tf"
      }
    },
    {
      "cell_type": "code",
      "source": [
        "import pandas as pd\n",
        "import numpy as np"
      ],
      "metadata": {
        "id": "YA6tScM8Vt5H"
      },
      "execution_count": 2,
      "outputs": []
    },
    {
      "cell_type": "code",
      "execution_count": 11,
      "metadata": {
        "colab": {
          "base_uri": "https://localhost:8080/",
          "height": 404
        },
        "id": "E4DWBEo1UcVK",
        "outputId": "a68f35c4-41e2-42af-eba1-d30a77730412"
      },
      "outputs": [
        {
          "output_type": "stream",
          "name": "stdout",
          "text": [
            "1BEnX5BOofTnUg85u5EWAmzerUs6vAfFH\n"
          ]
        },
        {
          "output_type": "execute_result",
          "data": {
            "text/plain": [
              "   symboling normalized-losses         make fuel-type aspiration num-of-doors  \\\n",
              "0          3                 ?  alfa-romero       gas        std          two   \n",
              "1          3                 ?  alfa-romero       gas        std          two   \n",
              "2          1                 ?  alfa-romero       gas        std          two   \n",
              "3          2               164         audi       gas        std         four   \n",
              "4          2               164         audi       gas        std         four   \n",
              "\n",
              "    body-style drive-wheels engine-location  wheel-base  ...  engine-size  \\\n",
              "0  convertible          rwd           front        88.6  ...          130   \n",
              "1  convertible          rwd           front        88.6  ...          130   \n",
              "2    hatchback          rwd           front        94.5  ...          152   \n",
              "3        sedan          fwd           front        99.8  ...          109   \n",
              "4        sedan          4wd           front        99.4  ...          136   \n",
              "\n",
              "   fuel-system  bore  stroke compression-ratio horsepower  peak-rpm city-mpg  \\\n",
              "0         mpfi  3.47    2.68               9.0        111      5000       21   \n",
              "1         mpfi  3.47    2.68               9.0        111      5000       21   \n",
              "2         mpfi  2.68    3.47               9.0        154      5000       19   \n",
              "3         mpfi  3.19    3.40              10.0        102      5500       24   \n",
              "4         mpfi  3.19    3.40               8.0        115      5500       18   \n",
              "\n",
              "  highway-mpg  price  \n",
              "0          27  13495  \n",
              "1          27  16500  \n",
              "2          26  16500  \n",
              "3          30  13950  \n",
              "4          22  17450  \n",
              "\n",
              "[5 rows x 26 columns]"
            ],
            "text/html": [
              "\n",
              "  <div id=\"df-8742a4ba-201d-41da-b628-5cdd988958c4\">\n",
              "    <div class=\"colab-df-container\">\n",
              "      <div>\n",
              "<style scoped>\n",
              "    .dataframe tbody tr th:only-of-type {\n",
              "        vertical-align: middle;\n",
              "    }\n",
              "\n",
              "    .dataframe tbody tr th {\n",
              "        vertical-align: top;\n",
              "    }\n",
              "\n",
              "    .dataframe thead th {\n",
              "        text-align: right;\n",
              "    }\n",
              "</style>\n",
              "<table border=\"1\" class=\"dataframe\">\n",
              "  <thead>\n",
              "    <tr style=\"text-align: right;\">\n",
              "      <th></th>\n",
              "      <th>symboling</th>\n",
              "      <th>normalized-losses</th>\n",
              "      <th>make</th>\n",
              "      <th>fuel-type</th>\n",
              "      <th>aspiration</th>\n",
              "      <th>num-of-doors</th>\n",
              "      <th>body-style</th>\n",
              "      <th>drive-wheels</th>\n",
              "      <th>engine-location</th>\n",
              "      <th>wheel-base</th>\n",
              "      <th>...</th>\n",
              "      <th>engine-size</th>\n",
              "      <th>fuel-system</th>\n",
              "      <th>bore</th>\n",
              "      <th>stroke</th>\n",
              "      <th>compression-ratio</th>\n",
              "      <th>horsepower</th>\n",
              "      <th>peak-rpm</th>\n",
              "      <th>city-mpg</th>\n",
              "      <th>highway-mpg</th>\n",
              "      <th>price</th>\n",
              "    </tr>\n",
              "  </thead>\n",
              "  <tbody>\n",
              "    <tr>\n",
              "      <th>0</th>\n",
              "      <td>3</td>\n",
              "      <td>?</td>\n",
              "      <td>alfa-romero</td>\n",
              "      <td>gas</td>\n",
              "      <td>std</td>\n",
              "      <td>two</td>\n",
              "      <td>convertible</td>\n",
              "      <td>rwd</td>\n",
              "      <td>front</td>\n",
              "      <td>88.6</td>\n",
              "      <td>...</td>\n",
              "      <td>130</td>\n",
              "      <td>mpfi</td>\n",
              "      <td>3.47</td>\n",
              "      <td>2.68</td>\n",
              "      <td>9.0</td>\n",
              "      <td>111</td>\n",
              "      <td>5000</td>\n",
              "      <td>21</td>\n",
              "      <td>27</td>\n",
              "      <td>13495</td>\n",
              "    </tr>\n",
              "    <tr>\n",
              "      <th>1</th>\n",
              "      <td>3</td>\n",
              "      <td>?</td>\n",
              "      <td>alfa-romero</td>\n",
              "      <td>gas</td>\n",
              "      <td>std</td>\n",
              "      <td>two</td>\n",
              "      <td>convertible</td>\n",
              "      <td>rwd</td>\n",
              "      <td>front</td>\n",
              "      <td>88.6</td>\n",
              "      <td>...</td>\n",
              "      <td>130</td>\n",
              "      <td>mpfi</td>\n",
              "      <td>3.47</td>\n",
              "      <td>2.68</td>\n",
              "      <td>9.0</td>\n",
              "      <td>111</td>\n",
              "      <td>5000</td>\n",
              "      <td>21</td>\n",
              "      <td>27</td>\n",
              "      <td>16500</td>\n",
              "    </tr>\n",
              "    <tr>\n",
              "      <th>2</th>\n",
              "      <td>1</td>\n",
              "      <td>?</td>\n",
              "      <td>alfa-romero</td>\n",
              "      <td>gas</td>\n",
              "      <td>std</td>\n",
              "      <td>two</td>\n",
              "      <td>hatchback</td>\n",
              "      <td>rwd</td>\n",
              "      <td>front</td>\n",
              "      <td>94.5</td>\n",
              "      <td>...</td>\n",
              "      <td>152</td>\n",
              "      <td>mpfi</td>\n",
              "      <td>2.68</td>\n",
              "      <td>3.47</td>\n",
              "      <td>9.0</td>\n",
              "      <td>154</td>\n",
              "      <td>5000</td>\n",
              "      <td>19</td>\n",
              "      <td>26</td>\n",
              "      <td>16500</td>\n",
              "    </tr>\n",
              "    <tr>\n",
              "      <th>3</th>\n",
              "      <td>2</td>\n",
              "      <td>164</td>\n",
              "      <td>audi</td>\n",
              "      <td>gas</td>\n",
              "      <td>std</td>\n",
              "      <td>four</td>\n",
              "      <td>sedan</td>\n",
              "      <td>fwd</td>\n",
              "      <td>front</td>\n",
              "      <td>99.8</td>\n",
              "      <td>...</td>\n",
              "      <td>109</td>\n",
              "      <td>mpfi</td>\n",
              "      <td>3.19</td>\n",
              "      <td>3.40</td>\n",
              "      <td>10.0</td>\n",
              "      <td>102</td>\n",
              "      <td>5500</td>\n",
              "      <td>24</td>\n",
              "      <td>30</td>\n",
              "      <td>13950</td>\n",
              "    </tr>\n",
              "    <tr>\n",
              "      <th>4</th>\n",
              "      <td>2</td>\n",
              "      <td>164</td>\n",
              "      <td>audi</td>\n",
              "      <td>gas</td>\n",
              "      <td>std</td>\n",
              "      <td>four</td>\n",
              "      <td>sedan</td>\n",
              "      <td>4wd</td>\n",
              "      <td>front</td>\n",
              "      <td>99.4</td>\n",
              "      <td>...</td>\n",
              "      <td>136</td>\n",
              "      <td>mpfi</td>\n",
              "      <td>3.19</td>\n",
              "      <td>3.40</td>\n",
              "      <td>8.0</td>\n",
              "      <td>115</td>\n",
              "      <td>5500</td>\n",
              "      <td>18</td>\n",
              "      <td>22</td>\n",
              "      <td>17450</td>\n",
              "    </tr>\n",
              "  </tbody>\n",
              "</table>\n",
              "<p>5 rows × 26 columns</p>\n",
              "</div>\n",
              "      <button class=\"colab-df-convert\" onclick=\"convertToInteractive('df-8742a4ba-201d-41da-b628-5cdd988958c4')\"\n",
              "              title=\"Convert this dataframe to an interactive table.\"\n",
              "              style=\"display:none;\">\n",
              "        \n",
              "  <svg xmlns=\"http://www.w3.org/2000/svg\" height=\"24px\"viewBox=\"0 0 24 24\"\n",
              "       width=\"24px\">\n",
              "    <path d=\"M0 0h24v24H0V0z\" fill=\"none\"/>\n",
              "    <path d=\"M18.56 5.44l.94 2.06.94-2.06 2.06-.94-2.06-.94-.94-2.06-.94 2.06-2.06.94zm-11 1L8.5 8.5l.94-2.06 2.06-.94-2.06-.94L8.5 2.5l-.94 2.06-2.06.94zm10 10l.94 2.06.94-2.06 2.06-.94-2.06-.94-.94-2.06-.94 2.06-2.06.94z\"/><path d=\"M17.41 7.96l-1.37-1.37c-.4-.4-.92-.59-1.43-.59-.52 0-1.04.2-1.43.59L10.3 9.45l-7.72 7.72c-.78.78-.78 2.05 0 2.83L4 21.41c.39.39.9.59 1.41.59.51 0 1.02-.2 1.41-.59l7.78-7.78 2.81-2.81c.8-.78.8-2.07 0-2.86zM5.41 20L4 18.59l7.72-7.72 1.47 1.35L5.41 20z\"/>\n",
              "  </svg>\n",
              "      </button>\n",
              "      \n",
              "  <style>\n",
              "    .colab-df-container {\n",
              "      display:flex;\n",
              "      flex-wrap:wrap;\n",
              "      gap: 12px;\n",
              "    }\n",
              "\n",
              "    .colab-df-convert {\n",
              "      background-color: #E8F0FE;\n",
              "      border: none;\n",
              "      border-radius: 50%;\n",
              "      cursor: pointer;\n",
              "      display: none;\n",
              "      fill: #1967D2;\n",
              "      height: 32px;\n",
              "      padding: 0 0 0 0;\n",
              "      width: 32px;\n",
              "    }\n",
              "\n",
              "    .colab-df-convert:hover {\n",
              "      background-color: #E2EBFA;\n",
              "      box-shadow: 0px 1px 2px rgba(60, 64, 67, 0.3), 0px 1px 3px 1px rgba(60, 64, 67, 0.15);\n",
              "      fill: #174EA6;\n",
              "    }\n",
              "\n",
              "    [theme=dark] .colab-df-convert {\n",
              "      background-color: #3B4455;\n",
              "      fill: #D2E3FC;\n",
              "    }\n",
              "\n",
              "    [theme=dark] .colab-df-convert:hover {\n",
              "      background-color: #434B5C;\n",
              "      box-shadow: 0px 1px 3px 1px rgba(0, 0, 0, 0.15);\n",
              "      filter: drop-shadow(0px 1px 2px rgba(0, 0, 0, 0.3));\n",
              "      fill: #FFFFFF;\n",
              "    }\n",
              "  </style>\n",
              "\n",
              "      <script>\n",
              "        const buttonEl =\n",
              "          document.querySelector('#df-8742a4ba-201d-41da-b628-5cdd988958c4 button.colab-df-convert');\n",
              "        buttonEl.style.display =\n",
              "          google.colab.kernel.accessAllowed ? 'block' : 'none';\n",
              "\n",
              "        async function convertToInteractive(key) {\n",
              "          const element = document.querySelector('#df-8742a4ba-201d-41da-b628-5cdd988958c4');\n",
              "          const dataTable =\n",
              "            await google.colab.kernel.invokeFunction('convertToInteractive',\n",
              "                                                     [key], {});\n",
              "          if (!dataTable) return;\n",
              "\n",
              "          const docLinkHtml = 'Like what you see? Visit the ' +\n",
              "            '<a target=\"_blank\" href=https://colab.research.google.com/notebooks/data_table.ipynb>data table notebook</a>'\n",
              "            + ' to learn more about interactive tables.';\n",
              "          element.innerHTML = '';\n",
              "          dataTable['output_type'] = 'display_data';\n",
              "          await google.colab.output.renderOutput(dataTable, element);\n",
              "          const docLink = document.createElement('div');\n",
              "          docLink.innerHTML = docLinkHtml;\n",
              "          element.appendChild(docLink);\n",
              "        }\n",
              "      </script>\n",
              "    </div>\n",
              "  </div>\n",
              "  "
            ]
          },
          "metadata": {},
          "execution_count": 11
        }
      ],
      "source": [
        "url = 'https://drive.google.com/file/d/1BEnX5BOofTnUg85u5EWAmzerUs6vAfFH/view?usp=sharing' \n",
        "print(url.split('/')[-2] )\n",
        "url = 'https://drive.google.com/uc?id=' + url.split('/')[-2] \n",
        "df = pd.read_csv(url) \n",
        "df.head()"
      ]
    },
    {
      "cell_type": "markdown",
      "source": [
        "## Missing Value"
      ],
      "metadata": {
        "id": "qiSstkOjgufm"
      }
    },
    {
      "cell_type": "markdown",
      "source": [
        "### Checking Missing Value"
      ],
      "metadata": {
        "id": "OeLMLcZOgjwp"
      }
    },
    {
      "cell_type": "code",
      "source": [
        "|df.info()"
      ],
      "metadata": {
        "colab": {
          "base_uri": "https://localhost:8080/"
        },
        "id": "LSMo2VTvaC0l",
        "outputId": "ae382cfc-93a8-428a-ac29-2ddd05fadb99"
      },
      "execution_count": 4,
      "outputs": [
        {
          "output_type": "stream",
          "name": "stdout",
          "text": [
            "<class 'pandas.core.frame.DataFrame'>\n",
            "RangeIndex: 205 entries, 0 to 204\n",
            "Data columns (total 26 columns):\n",
            " #   Column             Non-Null Count  Dtype  \n",
            "---  ------             --------------  -----  \n",
            " 0   symboling          205 non-null    int64  \n",
            " 1   normalized-losses  205 non-null    object \n",
            " 2   make               205 non-null    object \n",
            " 3   fuel-type          205 non-null    object \n",
            " 4   aspiration         205 non-null    object \n",
            " 5   num-of-doors       205 non-null    object \n",
            " 6   body-style         205 non-null    object \n",
            " 7   drive-wheels       205 non-null    object \n",
            " 8   engine-location    205 non-null    object \n",
            " 9   wheel-base         205 non-null    float64\n",
            " 10  length             205 non-null    float64\n",
            " 11  width              205 non-null    float64\n",
            " 12  height             205 non-null    float64\n",
            " 13  curb-weight        205 non-null    int64  \n",
            " 14  engine-type        205 non-null    object \n",
            " 15  num-of-cylinders   205 non-null    object \n",
            " 16  engine-size        205 non-null    int64  \n",
            " 17  fuel-system        205 non-null    object \n",
            " 18  bore               205 non-null    object \n",
            " 19  stroke             205 non-null    object \n",
            " 20  compression-ratio  205 non-null    float64\n",
            " 21  horsepower         205 non-null    object \n",
            " 22  peak-rpm           205 non-null    object \n",
            " 23  city-mpg           205 non-null    int64  \n",
            " 24  highway-mpg        205 non-null    int64  \n",
            " 25  price              205 non-null    object \n",
            "dtypes: float64(5), int64(5), object(16)\n",
            "memory usage: 41.8+ KB\n"
          ]
        }
      ]
    },
    {
      "cell_type": "code",
      "source": [
        "df.isnull().sum()"
      ],
      "metadata": {
        "colab": {
          "base_uri": "https://localhost:8080/"
        },
        "id": "qXoAzilDaePa",
        "outputId": "c47a9019-6e54-4be2-f766-3c3c50031cdb"
      },
      "execution_count": 8,
      "outputs": [
        {
          "output_type": "execute_result",
          "data": {
            "text/plain": [
              "symboling            0\n",
              "normalized-losses    0\n",
              "make                 0\n",
              "fuel-type            0\n",
              "aspiration           0\n",
              "num-of-doors         0\n",
              "body-style           0\n",
              "drive-wheels         0\n",
              "engine-location      0\n",
              "wheel-base           0\n",
              "length               0\n",
              "width                0\n",
              "height               0\n",
              "curb-weight          0\n",
              "engine-type          0\n",
              "num-of-cylinders     0\n",
              "engine-size          0\n",
              "fuel-system          0\n",
              "bore                 0\n",
              "stroke               0\n",
              "compression-ratio    0\n",
              "horsepower           0\n",
              "peak-rpm             0\n",
              "city-mpg             0\n",
              "highway-mpg          0\n",
              "price                0\n",
              "dtype: int64"
            ]
          },
          "metadata": {},
          "execution_count": 8
        }
      ]
    },
    {
      "cell_type": "markdown",
      "source": [
        "Ketika dicek menggunakan function df.info() dan df.isna().sum() tidak terlihat bahwa dataframe berisi data \"NaN\" atau \"null\", tapi kita bisa melihat bahwa di column \"normalized-losses\" terdapat beberapa data yang berisikan tanda \"?\" dan mungkin saja di column lain ada data yang serupa. Sehingga, ketika harus mengubahnya menjadi data \"NaN\" yang sesungguhnya."
      ],
      "metadata": {
        "id": "_L-j4WAYdcvj"
      }
    },
    {
      "cell_type": "code",
      "source": [
        "# Mengubah nilai \"?\" menjadi \"NaN\"\n",
        "df.replace(\"?\", np.NaN, inplace=True)"
      ],
      "metadata": {
        "id": "AEuFrQJvavZN"
      },
      "execution_count": 12,
      "outputs": []
    },
    {
      "cell_type": "code",
      "source": [
        "df.head()"
      ],
      "metadata": {
        "colab": {
          "base_uri": "https://localhost:8080/",
          "height": 386
        },
        "id": "S2aOauFvfX65",
        "outputId": "949d81c6-9d4b-495e-fed6-5283a30fda3d"
      },
      "execution_count": 22,
      "outputs": [
        {
          "output_type": "execute_result",
          "data": {
            "text/plain": [
              "   symboling normalized-losses         make fuel-type aspiration num-of-doors  \\\n",
              "0          3               NaN  alfa-romero       gas        std          two   \n",
              "1          3               NaN  alfa-romero       gas        std          two   \n",
              "2          1               NaN  alfa-romero       gas        std          two   \n",
              "3          2               164         audi       gas        std         four   \n",
              "4          2               164         audi       gas        std         four   \n",
              "\n",
              "    body-style drive-wheels engine-location  wheel-base  ...  engine-size  \\\n",
              "0  convertible          rwd           front        88.6  ...          130   \n",
              "1  convertible          rwd           front        88.6  ...          130   \n",
              "2    hatchback          rwd           front        94.5  ...          152   \n",
              "3        sedan          fwd           front        99.8  ...          109   \n",
              "4        sedan          4wd           front        99.4  ...          136   \n",
              "\n",
              "   fuel-system  bore  stroke compression-ratio horsepower  peak-rpm city-mpg  \\\n",
              "0         mpfi  3.47    2.68               9.0        111      5000       21   \n",
              "1         mpfi  3.47    2.68               9.0        111      5000       21   \n",
              "2         mpfi  2.68    3.47               9.0        154      5000       19   \n",
              "3         mpfi  3.19    3.40              10.0        102      5500       24   \n",
              "4         mpfi  3.19    3.40               8.0        115      5500       18   \n",
              "\n",
              "  highway-mpg  price  \n",
              "0          27  13495  \n",
              "1          27  16500  \n",
              "2          26  16500  \n",
              "3          30  13950  \n",
              "4          22  17450  \n",
              "\n",
              "[5 rows x 26 columns]"
            ],
            "text/html": [
              "\n",
              "  <div id=\"df-5da13170-b882-4b6d-af31-b9a85ef728ae\">\n",
              "    <div class=\"colab-df-container\">\n",
              "      <div>\n",
              "<style scoped>\n",
              "    .dataframe tbody tr th:only-of-type {\n",
              "        vertical-align: middle;\n",
              "    }\n",
              "\n",
              "    .dataframe tbody tr th {\n",
              "        vertical-align: top;\n",
              "    }\n",
              "\n",
              "    .dataframe thead th {\n",
              "        text-align: right;\n",
              "    }\n",
              "</style>\n",
              "<table border=\"1\" class=\"dataframe\">\n",
              "  <thead>\n",
              "    <tr style=\"text-align: right;\">\n",
              "      <th></th>\n",
              "      <th>symboling</th>\n",
              "      <th>normalized-losses</th>\n",
              "      <th>make</th>\n",
              "      <th>fuel-type</th>\n",
              "      <th>aspiration</th>\n",
              "      <th>num-of-doors</th>\n",
              "      <th>body-style</th>\n",
              "      <th>drive-wheels</th>\n",
              "      <th>engine-location</th>\n",
              "      <th>wheel-base</th>\n",
              "      <th>...</th>\n",
              "      <th>engine-size</th>\n",
              "      <th>fuel-system</th>\n",
              "      <th>bore</th>\n",
              "      <th>stroke</th>\n",
              "      <th>compression-ratio</th>\n",
              "      <th>horsepower</th>\n",
              "      <th>peak-rpm</th>\n",
              "      <th>city-mpg</th>\n",
              "      <th>highway-mpg</th>\n",
              "      <th>price</th>\n",
              "    </tr>\n",
              "  </thead>\n",
              "  <tbody>\n",
              "    <tr>\n",
              "      <th>0</th>\n",
              "      <td>3</td>\n",
              "      <td>NaN</td>\n",
              "      <td>alfa-romero</td>\n",
              "      <td>gas</td>\n",
              "      <td>std</td>\n",
              "      <td>two</td>\n",
              "      <td>convertible</td>\n",
              "      <td>rwd</td>\n",
              "      <td>front</td>\n",
              "      <td>88.6</td>\n",
              "      <td>...</td>\n",
              "      <td>130</td>\n",
              "      <td>mpfi</td>\n",
              "      <td>3.47</td>\n",
              "      <td>2.68</td>\n",
              "      <td>9.0</td>\n",
              "      <td>111</td>\n",
              "      <td>5000</td>\n",
              "      <td>21</td>\n",
              "      <td>27</td>\n",
              "      <td>13495</td>\n",
              "    </tr>\n",
              "    <tr>\n",
              "      <th>1</th>\n",
              "      <td>3</td>\n",
              "      <td>NaN</td>\n",
              "      <td>alfa-romero</td>\n",
              "      <td>gas</td>\n",
              "      <td>std</td>\n",
              "      <td>two</td>\n",
              "      <td>convertible</td>\n",
              "      <td>rwd</td>\n",
              "      <td>front</td>\n",
              "      <td>88.6</td>\n",
              "      <td>...</td>\n",
              "      <td>130</td>\n",
              "      <td>mpfi</td>\n",
              "      <td>3.47</td>\n",
              "      <td>2.68</td>\n",
              "      <td>9.0</td>\n",
              "      <td>111</td>\n",
              "      <td>5000</td>\n",
              "      <td>21</td>\n",
              "      <td>27</td>\n",
              "      <td>16500</td>\n",
              "    </tr>\n",
              "    <tr>\n",
              "      <th>2</th>\n",
              "      <td>1</td>\n",
              "      <td>NaN</td>\n",
              "      <td>alfa-romero</td>\n",
              "      <td>gas</td>\n",
              "      <td>std</td>\n",
              "      <td>two</td>\n",
              "      <td>hatchback</td>\n",
              "      <td>rwd</td>\n",
              "      <td>front</td>\n",
              "      <td>94.5</td>\n",
              "      <td>...</td>\n",
              "      <td>152</td>\n",
              "      <td>mpfi</td>\n",
              "      <td>2.68</td>\n",
              "      <td>3.47</td>\n",
              "      <td>9.0</td>\n",
              "      <td>154</td>\n",
              "      <td>5000</td>\n",
              "      <td>19</td>\n",
              "      <td>26</td>\n",
              "      <td>16500</td>\n",
              "    </tr>\n",
              "    <tr>\n",
              "      <th>3</th>\n",
              "      <td>2</td>\n",
              "      <td>164</td>\n",
              "      <td>audi</td>\n",
              "      <td>gas</td>\n",
              "      <td>std</td>\n",
              "      <td>four</td>\n",
              "      <td>sedan</td>\n",
              "      <td>fwd</td>\n",
              "      <td>front</td>\n",
              "      <td>99.8</td>\n",
              "      <td>...</td>\n",
              "      <td>109</td>\n",
              "      <td>mpfi</td>\n",
              "      <td>3.19</td>\n",
              "      <td>3.40</td>\n",
              "      <td>10.0</td>\n",
              "      <td>102</td>\n",
              "      <td>5500</td>\n",
              "      <td>24</td>\n",
              "      <td>30</td>\n",
              "      <td>13950</td>\n",
              "    </tr>\n",
              "    <tr>\n",
              "      <th>4</th>\n",
              "      <td>2</td>\n",
              "      <td>164</td>\n",
              "      <td>audi</td>\n",
              "      <td>gas</td>\n",
              "      <td>std</td>\n",
              "      <td>four</td>\n",
              "      <td>sedan</td>\n",
              "      <td>4wd</td>\n",
              "      <td>front</td>\n",
              "      <td>99.4</td>\n",
              "      <td>...</td>\n",
              "      <td>136</td>\n",
              "      <td>mpfi</td>\n",
              "      <td>3.19</td>\n",
              "      <td>3.40</td>\n",
              "      <td>8.0</td>\n",
              "      <td>115</td>\n",
              "      <td>5500</td>\n",
              "      <td>18</td>\n",
              "      <td>22</td>\n",
              "      <td>17450</td>\n",
              "    </tr>\n",
              "  </tbody>\n",
              "</table>\n",
              "<p>5 rows × 26 columns</p>\n",
              "</div>\n",
              "      <button class=\"colab-df-convert\" onclick=\"convertToInteractive('df-5da13170-b882-4b6d-af31-b9a85ef728ae')\"\n",
              "              title=\"Convert this dataframe to an interactive table.\"\n",
              "              style=\"display:none;\">\n",
              "        \n",
              "  <svg xmlns=\"http://www.w3.org/2000/svg\" height=\"24px\"viewBox=\"0 0 24 24\"\n",
              "       width=\"24px\">\n",
              "    <path d=\"M0 0h24v24H0V0z\" fill=\"none\"/>\n",
              "    <path d=\"M18.56 5.44l.94 2.06.94-2.06 2.06-.94-2.06-.94-.94-2.06-.94 2.06-2.06.94zm-11 1L8.5 8.5l.94-2.06 2.06-.94-2.06-.94L8.5 2.5l-.94 2.06-2.06.94zm10 10l.94 2.06.94-2.06 2.06-.94-2.06-.94-.94-2.06-.94 2.06-2.06.94z\"/><path d=\"M17.41 7.96l-1.37-1.37c-.4-.4-.92-.59-1.43-.59-.52 0-1.04.2-1.43.59L10.3 9.45l-7.72 7.72c-.78.78-.78 2.05 0 2.83L4 21.41c.39.39.9.59 1.41.59.51 0 1.02-.2 1.41-.59l7.78-7.78 2.81-2.81c.8-.78.8-2.07 0-2.86zM5.41 20L4 18.59l7.72-7.72 1.47 1.35L5.41 20z\"/>\n",
              "  </svg>\n",
              "      </button>\n",
              "      \n",
              "  <style>\n",
              "    .colab-df-container {\n",
              "      display:flex;\n",
              "      flex-wrap:wrap;\n",
              "      gap: 12px;\n",
              "    }\n",
              "\n",
              "    .colab-df-convert {\n",
              "      background-color: #E8F0FE;\n",
              "      border: none;\n",
              "      border-radius: 50%;\n",
              "      cursor: pointer;\n",
              "      display: none;\n",
              "      fill: #1967D2;\n",
              "      height: 32px;\n",
              "      padding: 0 0 0 0;\n",
              "      width: 32px;\n",
              "    }\n",
              "\n",
              "    .colab-df-convert:hover {\n",
              "      background-color: #E2EBFA;\n",
              "      box-shadow: 0px 1px 2px rgba(60, 64, 67, 0.3), 0px 1px 3px 1px rgba(60, 64, 67, 0.15);\n",
              "      fill: #174EA6;\n",
              "    }\n",
              "\n",
              "    [theme=dark] .colab-df-convert {\n",
              "      background-color: #3B4455;\n",
              "      fill: #D2E3FC;\n",
              "    }\n",
              "\n",
              "    [theme=dark] .colab-df-convert:hover {\n",
              "      background-color: #434B5C;\n",
              "      box-shadow: 0px 1px 3px 1px rgba(0, 0, 0, 0.15);\n",
              "      filter: drop-shadow(0px 1px 2px rgba(0, 0, 0, 0.3));\n",
              "      fill: #FFFFFF;\n",
              "    }\n",
              "  </style>\n",
              "\n",
              "      <script>\n",
              "        const buttonEl =\n",
              "          document.querySelector('#df-5da13170-b882-4b6d-af31-b9a85ef728ae button.colab-df-convert');\n",
              "        buttonEl.style.display =\n",
              "          google.colab.kernel.accessAllowed ? 'block' : 'none';\n",
              "\n",
              "        async function convertToInteractive(key) {\n",
              "          const element = document.querySelector('#df-5da13170-b882-4b6d-af31-b9a85ef728ae');\n",
              "          const dataTable =\n",
              "            await google.colab.kernel.invokeFunction('convertToInteractive',\n",
              "                                                     [key], {});\n",
              "          if (!dataTable) return;\n",
              "\n",
              "          const docLinkHtml = 'Like what you see? Visit the ' +\n",
              "            '<a target=\"_blank\" href=https://colab.research.google.com/notebooks/data_table.ipynb>data table notebook</a>'\n",
              "            + ' to learn more about interactive tables.';\n",
              "          element.innerHTML = '';\n",
              "          dataTable['output_type'] = 'display_data';\n",
              "          await google.colab.output.renderOutput(dataTable, element);\n",
              "          const docLink = document.createElement('div');\n",
              "          docLink.innerHTML = docLinkHtml;\n",
              "          element.appendChild(docLink);\n",
              "        }\n",
              "      </script>\n",
              "    </div>\n",
              "  </div>\n",
              "  "
            ]
          },
          "metadata": {},
          "execution_count": 22
        }
      ]
    },
    {
      "cell_type": "markdown",
      "source": [
        "### Jumlah Data NaN Pada Tiap Column"
      ],
      "metadata": {
        "id": "fKUWntCxzzKd"
      }
    },
    {
      "cell_type": "code",
      "source": [
        "# Cek jumlah data yang berisikan data null (NaN)\n",
        "df.isnull().sum()"
      ],
      "metadata": {
        "colab": {
          "base_uri": "https://localhost:8080/"
        },
        "id": "5Yr657o4fteH",
        "outputId": "d5dde160-51cc-49fe-9f69-cd2588125d8b"
      },
      "execution_count": 15,
      "outputs": [
        {
          "output_type": "execute_result",
          "data": {
            "text/plain": [
              "symboling             0\n",
              "normalized-losses    41\n",
              "make                  0\n",
              "fuel-type             0\n",
              "aspiration            0\n",
              "num-of-doors          2\n",
              "body-style            0\n",
              "drive-wheels          0\n",
              "engine-location       0\n",
              "wheel-base            0\n",
              "length                0\n",
              "width                 0\n",
              "height                0\n",
              "curb-weight           0\n",
              "engine-type           0\n",
              "num-of-cylinders      0\n",
              "engine-size           0\n",
              "fuel-system           0\n",
              "bore                  4\n",
              "stroke                4\n",
              "compression-ratio     0\n",
              "horsepower            2\n",
              "peak-rpm              2\n",
              "city-mpg              0\n",
              "highway-mpg           0\n",
              "price                 4\n",
              "dtype: int64"
            ]
          },
          "metadata": {},
          "execution_count": 15
        }
      ]
    },
    {
      "cell_type": "markdown",
      "source": [
        "### Handling Missing Value"
      ],
      "metadata": {
        "id": "8EIuGTuyg2Ag"
      }
    },
    {
      "cell_type": "markdown",
      "source": [
        "#### **normalized-losses**"
      ],
      "metadata": {
        "id": "H_oGrOGthDir"
      }
    },
    {
      "cell_type": "code",
      "source": [
        "# cek grafik untuk melihat distribusi data di column normalized-losses\n",
        "import matplotlib.pyplot as plt\n",
        "\n",
        "plt.hist(df[\"normalized-losses\"].astype(float), bins=10) # astype to convert the data type of the column\n",
        "plt.title(\"Sebaran Nilai Pada Kolom normalized-losses\") \n",
        "plt.xlabel(\"Value\") \n",
        "plt.ylabel(\"Quantity\") \n",
        "plt.show() "
      ],
      "metadata": {
        "colab": {
          "base_uri": "https://localhost:8080/",
          "height": 294
        },
        "id": "aysjbnOJfdbt",
        "outputId": "7e2bac75-8c26-4b24-e34d-41068a3f6df3"
      },
      "execution_count": 23,
      "outputs": [
        {
          "output_type": "display_data",
          "data": {
            "text/plain": [
              "<Figure size 432x288 with 1 Axes>"
            ],
            "image/png": "[encoded data removed]"
          },
          "metadata": {
            "needs_background": "light"
          }
        }
      ]
    },
    {
      "cell_type": "markdown",
      "source": [
        "Dapat dilihat pada grafik bahwa sebaran data mengalami right-skewed-distribution (positive-skew), baiknya untuk menangani missing values pada data skew adalah mengisi missing valuenya dengan nilai mediannya."
      ],
      "metadata": {
        "id": "tUeAdLFTk5zC"
      }
    },
    {
      "cell_type": "code",
      "source": [
        "# cek nilai mean dan median\n",
        "# hitung mean\n",
        "mean_norm_loss = df[\"normalized-losses\"].astype(float).mean(axis=0)\n",
        "print(\"Nilai mean data pada column normalized-losses adalah :\", mean_norm_loss)\n",
        "\n",
        "# hitung median\n",
        "median_norm_loss = df[\"normalized-losses\"].astype(float).median(axis=0)\n",
        "print(\"Nilai median data pada column normalized-losses adalah :\", median_norm_loss)"
      ],
      "metadata": {
        "colab": {
          "base_uri": "https://localhost:8080/"
        },
        "id": "JoD-LHD1jwpk",
        "outputId": "ef352539-6d27-4628-e077-60c2b51213e4"
      },
      "execution_count": 24,
      "outputs": [
        {
          "output_type": "stream",
          "name": "stdout",
          "text": [
            "Nilai mean data pada column normalized-losses adalah : 122.0\n",
            "Nilai median data pada column normalized-losses adalah : 115.0\n"
          ]
        }
      ]
    },
    {
      "cell_type": "code",
      "source": [
        "# replace missing value (nan value) dengan nilai median data columnya\n",
        "df[\"normalized-losses\"].replace(np.nan, median_norm_loss, inplace=True)"
      ],
      "metadata": {
        "id": "tB5aBimKmFlF"
      },
      "execution_count": 25,
      "outputs": []
    },
    {
      "cell_type": "code",
      "source": [
        "# cek jumlah data nan di column normalized-losses\n",
        "df[\"normalized-losses\"].isnull().sum()"
      ],
      "metadata": {
        "colab": {
          "base_uri": "https://localhost:8080/"
        },
        "id": "JblczPj8qjYg",
        "outputId": "2c30e3f5-363a-4956-baf5-b1082894aa5b"
      },
      "execution_count": 26,
      "outputs": [
        {
          "output_type": "execute_result",
          "data": {
            "text/plain": [
              "0"
            ]
          },
          "metadata": {},
          "execution_count": 26
        }
      ]
    },
    {
      "cell_type": "markdown",
      "source": [
        "Jumlah data nan (null) pada column normalized-losses = 0, berarti sudah tidak ada missing value pada column tersebut."
      ],
      "metadata": {
        "id": "f3P0XG5jqqc0"
      }
    },
    {
      "cell_type": "markdown",
      "source": [
        "#### **num-of-doors**"
      ],
      "metadata": {
        "id": "pFYkTA5drMJM"
      }
    },
    {
      "cell_type": "code",
      "source": [
        "# data pada column num-of-doors berupa data categorical dengan isi data bertipe string\n",
        "# maka kita mengisi missing value nya dengan modus data\n",
        "df[\"num-of-doors\"].value_counts()"
      ],
      "metadata": {
        "colab": {
          "base_uri": "https://localhost:8080/"
        },
        "id": "q9GYLvSeq5PW",
        "outputId": "d3e9cecd-87a5-44de-87e4-a3d58325b8d2"
      },
      "execution_count": 37,
      "outputs": [
        {
          "output_type": "execute_result",
          "data": {
            "text/plain": [
              "four    116\n",
              "two      89\n",
              "Name: num-of-doors, dtype: int64"
            ]
          },
          "metadata": {},
          "execution_count": 37
        }
      ]
    },
    {
      "cell_type": "code",
      "source": [
        "# opsi lain untuk melihat modus data\n",
        "df[\"num-of-doors\"].value_counts().idxmax()"
      ],
      "metadata": {
        "colab": {
          "base_uri": "https://localhost:8080/",
          "height": 36
        },
        "id": "TXUuOHm0tnNC",
        "outputId": "eaf552d7-47a3-4e39-ccce-e4cbfcd7d5a8"
      },
      "execution_count": 38,
      "outputs": [
        {
          "output_type": "execute_result",
          "data": {
            "text/plain": [
              "'four'"
            ],
            "application/vnd.google.colaboratory.intrinsic+json": {
              "type": "string"
            }
          },
          "metadata": {},
          "execution_count": 38
        }
      ]
    },
    {
      "cell_type": "code",
      "source": [
        "# replace missing value with the data mode\n",
        "df[\"num-of-doors\"].replace(np.nan, \"four\", inplace = True)"
      ],
      "metadata": {
        "id": "qwpB_sVorLDa"
      },
      "execution_count": 33,
      "outputs": []
    },
    {
      "cell_type": "code",
      "source": [
        "df[\"num-of-doors\"].value_counts()"
      ],
      "metadata": {
        "colab": {
          "base_uri": "https://localhost:8080/"
        },
        "id": "RBw2alq7tUGf",
        "outputId": "f25a4f2f-b6f8-4867-ac70-01a4754128af"
      },
      "execution_count": 36,
      "outputs": [
        {
          "output_type": "execute_result",
          "data": {
            "text/plain": [
              "four    116\n",
              "two      89\n",
              "Name: num-of-doors, dtype: int64"
            ]
          },
          "metadata": {},
          "execution_count": 36
        }
      ]
    },
    {
      "cell_type": "code",
      "source": [
        "df[\"num-of-doors\"].isnull().sum()"
      ],
      "metadata": {
        "colab": {
          "base_uri": "https://localhost:8080/"
        },
        "id": "dbrqDdR-tfQS",
        "outputId": "10f839bf-5318-4345-813c-8c33bfffe396"
      },
      "execution_count": 39,
      "outputs": [
        {
          "output_type": "execute_result",
          "data": {
            "text/plain": [
              "0"
            ]
          },
          "metadata": {},
          "execution_count": 39
        }
      ]
    },
    {
      "cell_type": "markdown",
      "source": [
        "Jumlah data nan (null) pada column num-of-doors = 0, berarti sudah tidak ada missing value pada column tersebut."
      ],
      "metadata": {
        "id": "4aDxYlPHt_hR"
      }
    },
    {
      "cell_type": "markdown",
      "source": [
        "#### **bore**"
      ],
      "metadata": {
        "id": "1MNTVLSquEI0"
      }
    },
    {
      "cell_type": "code",
      "source": [
        "# cek grafik untuk melihat distribusi data\n",
        "plt.hist(df['bore'].astype(float), bins=10)"
      ],
      "metadata": {
        "colab": {
          "base_uri": "https://localhost:8080/",
          "height": 320
        },
        "id": "edc5dGvQuDc8",
        "outputId": "96e6315c-b325-4d97-ac4e-d959a80340d8"
      },
      "execution_count": 40,
      "outputs": [
        {
          "output_type": "execute_result",
          "data": {
            "text/plain": [
              "(array([ 1.,  1.,  8., 37., 40., 24., 27., 42., 17.,  4.]),\n",
              " array([2.54, 2.68, 2.82, 2.96, 3.1 , 3.24, 3.38, 3.52, 3.66, 3.8 , 3.94]),\n",
              " <a list of 10 Patch objects>)"
            ]
          },
          "metadata": {},
          "execution_count": 40
        },
        {
          "output_type": "display_data",
          "data": {
            "text/plain": [
              "<Figure size 432x288 with 1 Axes>"
            ],
            "image/png": "[encoded data removed]"
          },
          "metadata": {
            "needs_background": "light"
          }
        }
      ]
    },
    {
      "cell_type": "markdown",
      "source": [
        "Dapat dilihat pada grafik bahwa sebaran data termasuk distribusi normal, sehingga untuk mengisi missing valuesnya bisa dilakukan dengan mengganti nilainya dengan mean data."
      ],
      "metadata": {
        "id": "MSg-RAslumJD"
      }
    },
    {
      "cell_type": "code",
      "source": [
        "mean_bore = df[\"bore\"].astype(float).mean(axis=0)\n",
        "print(\"Nilai mean data pada column bore adalah :\", mean_bore)"
      ],
      "metadata": {
        "colab": {
          "base_uri": "https://localhost:8080/"
        },
        "id": "s06YblDdu8Vq",
        "outputId": "479bc415-1cbe-4eea-d010-96dae88c073f"
      },
      "execution_count": 41,
      "outputs": [
        {
          "output_type": "stream",
          "name": "stdout",
          "text": [
            "Nilai mean data pada column bore adalah : 3.3297512437810957\n"
          ]
        }
      ]
    },
    {
      "cell_type": "code",
      "source": [
        "# replace missing value (nan value) dengan nilai mean data columnya\n",
        "df[\"bore\"].replace(np.nan, mean_bore, inplace=True)"
      ],
      "metadata": {
        "id": "RclDPEC8vQBu"
      },
      "execution_count": 42,
      "outputs": []
    },
    {
      "cell_type": "code",
      "source": [
        "# cek jumlah data nan di column bore\n",
        "df[\"bore\"].isnull().sum()"
      ],
      "metadata": {
        "colab": {
          "base_uri": "https://localhost:8080/"
        },
        "id": "mU7kljDtvW-E",
        "outputId": "ddd25782-e4e9-40f1-858f-948d8c6d971e"
      },
      "execution_count": 44,
      "outputs": [
        {
          "output_type": "execute_result",
          "data": {
            "text/plain": [
              "0"
            ]
          },
          "metadata": {},
          "execution_count": 44
        }
      ]
    },
    {
      "cell_type": "markdown",
      "source": [
        "Jumlah data nan (null) pada column bore = 0, berarti sudah tidak ada missing value pada column tersebut"
      ],
      "metadata": {
        "id": "K1McToqSvjlp"
      }
    },
    {
      "cell_type": "markdown",
      "source": [
        "#### **stroke**"
      ],
      "metadata": {
        "id": "62V-S4wsvmyU"
      }
    },
    {
      "cell_type": "code",
      "source": [
        "# cek grafik untuk melihat distribusi data\n",
        "plt.hist(df['stroke'].astype(float), bins=10)"
      ],
      "metadata": {
        "colab": {
          "base_uri": "https://localhost:8080/",
          "height": 320
        },
        "id": "2Kwe0TjLval_",
        "outputId": "9885e198-f8ff-48be-a5b2-3ee76c83cb43"
      },
      "execution_count": 45,
      "outputs": [
        {
          "output_type": "execute_result",
          "data": {
            "text/plain": [
              "(array([ 3.,  1., 13.,  7., 30., 52., 71., 15.,  7.,  2.]),\n",
              " array([2.07, 2.28, 2.49, 2.7 , 2.91, 3.12, 3.33, 3.54, 3.75, 3.96, 4.17]),\n",
              " <a list of 10 Patch objects>)"
            ]
          },
          "metadata": {},
          "execution_count": 45
        },
        {
          "output_type": "display_data",
          "data": {
            "text/plain": [
              "<Figure size 432x288 with 1 Axes>"
            ],
            "image/png": "[encoded data removed]"
          },
          "metadata": {
            "needs_background": "light"
          }
        }
      ]
    },
    {
      "cell_type": "markdown",
      "source": [
        "Dapat dilihat pada grafik bahwa sebaran data termasuk distribusi normal, sehingga untuk mengisi missing valuesnya bisa dilakukan dengan mengganti nilainya dengan mean data."
      ],
      "metadata": {
        "id": "yBfNTeL8wPIa"
      }
    },
    {
      "cell_type": "code",
      "source": [
        "mean_stroke = df[\"stroke\"].astype(float).mean(axis=0)\n",
        "print(\"Nilai mean data pada column stroke adalah :\", mean_stroke)"
      ],
      "metadata": {
        "colab": {
          "base_uri": "https://localhost:8080/"
        },
        "id": "UDZWQQoKvzok",
        "outputId": "0a91299f-24f7-4f7d-8898-caa905ed9907"
      },
      "execution_count": 46,
      "outputs": [
        {
          "output_type": "stream",
          "name": "stdout",
          "text": [
            "Nilai mean data pada column stroke adalah : 3.2554228855721337\n"
          ]
        }
      ]
    },
    {
      "cell_type": "code",
      "source": [
        "# replace missing value (nan value) dengan nilai mean data columnya\n",
        "df[\"stroke\"].replace(np.nan, mean_stroke, inplace=True)"
      ],
      "metadata": {
        "id": "y88kuW-CwZNC"
      },
      "execution_count": 51,
      "outputs": []
    },
    {
      "cell_type": "code",
      "source": [
        "# cek jumlah data nan di column bore\n",
        "df[\"stroke\"].isnull().sum()"
      ],
      "metadata": {
        "colab": {
          "base_uri": "https://localhost:8080/"
        },
        "id": "AIWzKE1zwkDf",
        "outputId": "5566d27b-9afe-4557-f6a6-ce5a668f0e9c"
      },
      "execution_count": 52,
      "outputs": [
        {
          "output_type": "execute_result",
          "data": {
            "text/plain": [
              "0"
            ]
          },
          "metadata": {},
          "execution_count": 52
        }
      ]
    },
    {
      "cell_type": "markdown",
      "source": [
        "Jumlah data nan (null) pada column bore = 0, berarti sudah tidak ada missing value pada column tersebut"
      ],
      "metadata": {
        "id": "30pbwxd_wnvZ"
      }
    },
    {
      "cell_type": "markdown",
      "source": [
        "#### **horsepower**"
      ],
      "metadata": {
        "id": "uDCtmnKHwpoc"
      }
    },
    {
      "cell_type": "code",
      "source": [
        "# cek grafik untuk melihat distribusi data\n",
        "plt.hist(df[\"horsepower\"].astype(float), bins=10)"
      ],
      "metadata": {
        "colab": {
          "base_uri": "https://localhost:8080/",
          "height": 320
        },
        "id": "rf1ZZElmw4Im",
        "outputId": "c5d5d672-7a26-45a3-a904-7c63a11f3f83"
      },
      "execution_count": 53,
      "outputs": [
        {
          "output_type": "execute_result",
          "data": {
            "text/plain": [
              "(array([55., 49., 49., 13., 23.,  8.,  4.,  0.,  1.,  1.]),\n",
              " array([ 48.,  72.,  96., 120., 144., 168., 192., 216., 240., 264., 288.]),\n",
              " <a list of 10 Patch objects>)"
            ]
          },
          "metadata": {},
          "execution_count": 53
        },
        {
          "output_type": "display_data",
          "data": {
            "text/plain": [
              "<Figure size 432x288 with 1 Axes>"
            ],
            "image/png": "[encoded data removed]"
          },
          "metadata": {
            "needs_background": "light"
          }
        }
      ]
    },
    {
      "cell_type": "markdown",
      "source": [
        "Dapat dilihat pada grafik bahwa sebaran data mengalami right-skewed-distribution (positive-skew), baiknya untuk menangani missing values pada data skew adalah mengisi missing valuenya dengan nilai mediannya."
      ],
      "metadata": {
        "id": "cXhmpEzYxZZX"
      }
    },
    {
      "cell_type": "code",
      "source": [
        "# hitung median\n",
        "median_horsepower = df[\"horsepower\"].astype(float).median(axis=0)\n",
        "print(\"Nilai median data pada column horsepower adalah :\", median_horsepower)"
      ],
      "metadata": {
        "colab": {
          "base_uri": "https://localhost:8080/"
        },
        "id": "2GwAlvD8xtzy",
        "outputId": "bf4d88f5-f87c-4408-ad0e-615b147ead2d"
      },
      "execution_count": 54,
      "outputs": [
        {
          "output_type": "stream",
          "name": "stdout",
          "text": [
            "Nilai median data pada column horsepower adalah : 95.0\n"
          ]
        }
      ]
    },
    {
      "cell_type": "code",
      "source": [
        "# replace missing value (nan value) dengan nilai median data columnya\n",
        "df[\"horsepower\"].replace(np.nan, median_horsepower, inplace=True)"
      ],
      "metadata": {
        "id": "lZnEKk-wxbfZ"
      },
      "execution_count": 55,
      "outputs": []
    },
    {
      "cell_type": "code",
      "source": [
        "# cek jumlah data nan di column normalized-losses\n",
        "df[\"horsepower\"].isnull().sum()"
      ],
      "metadata": {
        "colab": {
          "base_uri": "https://localhost:8080/"
        },
        "id": "wBmTNjzLxroM",
        "outputId": "ee2c99ad-3902-4c1d-b3b9-5feb249e477d"
      },
      "execution_count": 56,
      "outputs": [
        {
          "output_type": "execute_result",
          "data": {
            "text/plain": [
              "0"
            ]
          },
          "metadata": {},
          "execution_count": 56
        }
      ]
    },
    {
      "cell_type": "markdown",
      "source": [
        "Jumlah data nan (null) pada column horsepower = 0, berarti sudah tidak ada missing value pada column tersebut"
      ],
      "metadata": {
        "id": "jEQxmzJqx_7W"
      }
    },
    {
      "cell_type": "markdown",
      "source": [
        "#### **peak-rpm**"
      ],
      "metadata": {
        "id": "HWnzb_BmyHJh"
      }
    },
    {
      "cell_type": "code",
      "source": [
        "# cek grafik untuk melihat distribusi data\n",
        "plt.hist(df[\"peak-rpm\"].astype(float), bins=10)"
      ],
      "metadata": {
        "colab": {
          "base_uri": "https://localhost:8080/",
          "height": 338
        },
        "id": "8HMyLtPbyXLS",
        "outputId": "49c9c0a4-0b10-4366-b258-6e9a28e0fd95"
      },
      "execution_count": 57,
      "outputs": [
        {
          "output_type": "execute_result",
          "data": {
            "text/plain": [
              "(array([17., 10., 41., 31., 31., 51.,  8., 12.,  0.,  2.]),\n",
              " array([4150., 4395., 4640., 4885., 5130., 5375., 5620., 5865., 6110.,\n",
              "        6355., 6600.]),\n",
              " <a list of 10 Patch objects>)"
            ]
          },
          "metadata": {},
          "execution_count": 57
        },
        {
          "output_type": "display_data",
          "data": {
            "text/plain": [
              "<Figure size 432x288 with 1 Axes>"
            ],
            "image/png": "[encoded data removed]"
          },
          "metadata": {
            "needs_background": "light"
          }
        }
      ]
    },
    {
      "cell_type": "markdown",
      "source": [
        "Dapat dilihat pada grafik bahwa sebaran data termasuk distribusi normal, sehingga untuk mengisi missing valuesnya bisa dilakukan dengan mengganti nilainya dengan mean data."
      ],
      "metadata": {
        "id": "_J_GylOGzRHO"
      }
    },
    {
      "cell_type": "code",
      "source": [
        "mean_peak_rpm = df[\"peak-rpm\"].astype(float).mean(axis=0)\n",
        "print(\"Nilai mean data pada column peak-rpm adalah :\", mean_peak_rpm)"
      ],
      "metadata": {
        "colab": {
          "base_uri": "https://localhost:8080/"
        },
        "id": "6kYndqvZyzrn",
        "outputId": "3e0e60ce-36e0-4ef4-cffe-e05a50bcfcb7"
      },
      "execution_count": 58,
      "outputs": [
        {
          "output_type": "stream",
          "name": "stdout",
          "text": [
            "Nilai mean data pada column peak-rpm adalah : 5125.369458128079\n"
          ]
        }
      ]
    },
    {
      "cell_type": "code",
      "source": [
        "# replace missing value (nan value) dengan nilai mean data columnya\n",
        "df[\"peak-rpm\"].replace(np.nan, mean_peak_rpm, inplace=True)"
      ],
      "metadata": {
        "id": "m5V3qzMUyyOo"
      },
      "execution_count": 59,
      "outputs": []
    },
    {
      "cell_type": "code",
      "source": [
        "# cek jumlah data nan di column bore\n",
        "df[\"peak-rpm\"].isnull().sum()"
      ],
      "metadata": {
        "colab": {
          "base_uri": "https://localhost:8080/"
        },
        "id": "chYOVbIlytxl",
        "outputId": "12bd570e-6ceb-4713-8cff-3356a3c389cd"
      },
      "execution_count": 60,
      "outputs": [
        {
          "output_type": "execute_result",
          "data": {
            "text/plain": [
              "0"
            ]
          },
          "metadata": {},
          "execution_count": 60
        }
      ]
    },
    {
      "cell_type": "markdown",
      "source": [
        "Jumlah data nan (null) pada column peak-rpm = 0, berarti sudah tidak ada missing value pada column tersebut"
      ],
      "metadata": {
        "id": "OuwRZSvnzM53"
      }
    },
    {
      "cell_type": "markdown",
      "source": [
        "#### **price**"
      ],
      "metadata": {
        "id": "Z2dajOCBAC-o"
      }
    },
    {
      "cell_type": "code",
      "source": [
        "# karena data price adalah data yang akan diprediksi, jadi dihapus saja row yang mengandung nilai \"NaN\"\n",
        "df.dropna(subset=[\"price\"], axis=0, inplace=True)\n",
        "\n",
        "# reset index setelah row yang mengandung nilai NaN dihapus\n",
        "df.reset_index(drop=True, inplace=True)"
      ],
      "metadata": {
        "id": "4XS7TrhiANhj"
      },
      "execution_count": 61,
      "outputs": []
    },
    {
      "cell_type": "code",
      "source": [
        "# recheck all data null\n",
        "df.isnull().sum()"
      ],
      "metadata": {
        "colab": {
          "base_uri": "https://localhost:8080/"
        },
        "id": "cRjvesvKA5N9",
        "outputId": "f52a64a0-1adf-44d3-af11-a491868d3cf0"
      },
      "execution_count": 62,
      "outputs": [
        {
          "output_type": "execute_result",
          "data": {
            "text/plain": [
              "symboling            0\n",
              "normalized-losses    0\n",
              "make                 0\n",
              "fuel-type            0\n",
              "aspiration           0\n",
              "num-of-doors         0\n",
              "body-style           0\n",
              "drive-wheels         0\n",
              "engine-location      0\n",
              "wheel-base           0\n",
              "length               0\n",
              "width                0\n",
              "height               0\n",
              "curb-weight          0\n",
              "engine-type          0\n",
              "num-of-cylinders     0\n",
              "engine-size          0\n",
              "fuel-system          0\n",
              "bore                 0\n",
              "stroke               0\n",
              "compression-ratio    0\n",
              "horsepower           0\n",
              "peak-rpm             0\n",
              "city-mpg             0\n",
              "highway-mpg          0\n",
              "price                0\n",
              "dtype: int64"
            ]
          },
          "metadata": {},
          "execution_count": 62
        }
      ]
    },
    {
      "cell_type": "markdown",
      "source": [
        "Sudah tidak ada data NaN (null) pada dataset yang digunakan"
      ],
      "metadata": {
        "id": "KGCkW8_kA_Qb"
      }
    },
    {
      "cell_type": "markdown",
      "source": [
        "## Data Formatting"
      ],
      "metadata": {
        "id": "a9FwyunnBHMG"
      }
    },
    {
      "cell_type": "markdown",
      "source": [
        "Mengubah format tipe data column dataframe"
      ],
      "metadata": {
        "id": "tH9_alN9BLVh"
      }
    },
    {
      "cell_type": "code",
      "source": [
        "df.dtypes"
      ],
      "metadata": {
        "colab": {
          "base_uri": "https://localhost:8080/"
        },
        "id": "JWlHVVtiA-HX",
        "outputId": "f82fda4a-e18c-4cb2-f598-7015732d8dd4"
      },
      "execution_count": 63,
      "outputs": [
        {
          "output_type": "execute_result",
          "data": {
            "text/plain": [
              "symboling              int64\n",
              "normalized-losses     object\n",
              "make                  object\n",
              "fuel-type             object\n",
              "aspiration            object\n",
              "num-of-doors          object\n",
              "body-style            object\n",
              "drive-wheels          object\n",
              "engine-location       object\n",
              "wheel-base           float64\n",
              "length               float64\n",
              "width                float64\n",
              "height               float64\n",
              "curb-weight            int64\n",
              "engine-type           object\n",
              "num-of-cylinders      object\n",
              "engine-size            int64\n",
              "fuel-system           object\n",
              "bore                  object\n",
              "stroke                object\n",
              "compression-ratio    float64\n",
              "horsepower            object\n",
              "peak-rpm              object\n",
              "city-mpg               int64\n",
              "highway-mpg            int64\n",
              "price                 object\n",
              "dtype: object"
            ]
          },
          "metadata": {},
          "execution_count": 63
        }
      ]
    },
    {
      "cell_type": "markdown",
      "source": [
        "Beberapa tipe data yang berisikan angka masih bertipe data object, jadi harus diubah menjadi float/int. \n",
        "Langkah ini bisa juga dilakukan di awal sebelum memerika missing values"
      ],
      "metadata": {
        "id": "qz_QOii1BZDN"
      }
    },
    {
      "cell_type": "code",
      "source": [
        "# ubah type data\n",
        "df[[\"bore\", \"stroke\", \"price\", \"peak-rpm\"]] = df[[\"bore\", \"stroke\", \"price\", \"peak-rpm\"]].astype(float)\n",
        "df[[\"normalized-losses\"]] = df[[\"normalized-losses\"]].astype(float)"
      ],
      "metadata": {
        "id": "SdA87ncDBV2d"
      },
      "execution_count": 64,
      "outputs": []
    },
    {
      "cell_type": "code",
      "source": [
        "df.dtypes"
      ],
      "metadata": {
        "colab": {
          "base_uri": "https://localhost:8080/"
        },
        "id": "guc2m5MxCOU1",
        "outputId": "07b06459-7bf7-4062-aa91-72cfaf2b5d09"
      },
      "execution_count": 65,
      "outputs": [
        {
          "output_type": "execute_result",
          "data": {
            "text/plain": [
              "symboling              int64\n",
              "normalized-losses    float64\n",
              "make                  object\n",
              "fuel-type             object\n",
              "aspiration            object\n",
              "num-of-doors          object\n",
              "body-style            object\n",
              "drive-wheels          object\n",
              "engine-location       object\n",
              "wheel-base           float64\n",
              "length               float64\n",
              "width                float64\n",
              "height               float64\n",
              "curb-weight            int64\n",
              "engine-type           object\n",
              "num-of-cylinders      object\n",
              "engine-size            int64\n",
              "fuel-system           object\n",
              "bore                 float64\n",
              "stroke               float64\n",
              "compression-ratio    float64\n",
              "horsepower            object\n",
              "peak-rpm             float64\n",
              "city-mpg               int64\n",
              "highway-mpg            int64\n",
              "price                float64\n",
              "dtype: object"
            ]
          },
          "metadata": {},
          "execution_count": 65
        }
      ]
    },
    {
      "cell_type": "markdown",
      "source": [
        "## Data Normalization\n",
        "\n",
        "\n",
        "contoh : ingin melakukan normalisasi terhadap kolom \"length\" dan \"width\", sehingga memiliki range data dari 0 sampai 1\n",
        "\n",
        "![image.png](data:image/png;base64,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)"
      ],
      "metadata": {
        "id": "7MExyiTVCTig"
      }
    },
    {
      "cell_type": "code",
      "source": [
        "plt.subplot(2, 1, 1)\n",
        "plt.hist(df['length'].astype(float), bins=10)\n",
        "plt.ylabel('Distribusi data length')\n",
        "plt.subplot(2, 1, 2)\n",
        "plt.hist(df['width'].astype(float), bins=10)\n",
        "plt.ylabel('distribusi data width')\n",
        "plt.show()"
      ],
      "metadata": {
        "colab": {
          "base_uri": "https://localhost:8080/",
          "height": 270
        },
        "id": "LRi6k0-9CPz5",
        "outputId": "6513f492-1fc9-42c2-faf1-b18f555705d9"
      },
      "execution_count": 72,
      "outputs": [
        {
          "output_type": "display_data",
          "data": {
            "text/plain": [
              "<Figure size 432x288 with 2 Axes>"
            ],
            "image/png": "[encoded data removed]"
          },
          "metadata": {
            "needs_background": "light"
          }
        }
      ]
    },
    {
      "cell_type": "code",
      "source": [
        "min_length = df['length'].min()\n",
        "range_length = df['length'].max()- df['length'].min()\n",
        "df['length'] = (df['length'] - min_length)/range_length\n",
        "\n",
        "min_width = df['width'].min()\n",
        "range_width = df['width'].max()-df['width'].min()\n",
        "df['width'] = (df['width'] - min_width)/range_width"
      ],
      "metadata": {
        "id": "pqs3SD-6CvEZ"
      },
      "execution_count": 74,
      "outputs": []
    },
    {
      "cell_type": "code",
      "source": [
        "plt.subplot(2, 1, 1)\n",
        "plt.hist(df['length'].astype(float), bins=10)\n",
        "plt.ylabel('Distribusi data length')\n",
        "plt.subplot(2, 1, 2)\n",
        "plt.hist(df['width'].astype(float), bins=10)\n",
        "plt.ylabel('distribusi data width')\n",
        "plt.show()"
      ],
      "metadata": {
        "colab": {
          "base_uri": "https://localhost:8080/",
          "height": 270
        },
        "id": "g3tOkak2D3EG",
        "outputId": "c231b00a-e660-4bd5-bcfa-c0d9834f7466"
      },
      "execution_count": 75,
      "outputs": [
        {
          "output_type": "display_data",
          "data": {
            "text/plain": [
              "<Figure size 432x288 with 2 Axes>"
            ],
            "image/png": "[encoded data removed]"
          },
          "metadata": {
            "needs_background": "light"
          }
        }
      ]
    },
    {
      "cell_type": "markdown",
      "source": [
        "## One-hot Encoding\n",
        "Proses untuk membuat kolom baru dari variabel kategorikal kita di mana setiap kategori menjadi kolom baru dengan data numerik (nilai 0 atau 1)\n",
        "Biasanya untuk data yang kedudukannya sama rata, berbeda dengan label encoding (untuk data yang memiliki tingkatan/urutan)"
      ],
      "metadata": {
        "id": "KrzwcoEQD8Gw"
      }
    },
    {
      "cell_type": "code",
      "source": [
        "# contoh melakukan one hot encoding terhadap data column fuel-type\n",
        "df[\"fuel-type\"].value_counts()"
      ],
      "metadata": {
        "colab": {
          "base_uri": "https://localhost:8080/"
        },
        "id": "uOyOy2beEtz5",
        "outputId": "eaa68a8c-8a45-49af-8794-d40ef40edf14"
      },
      "execution_count": 76,
      "outputs": [
        {
          "output_type": "execute_result",
          "data": {
            "text/plain": [
              "gas       181\n",
              "diesel     20\n",
              "Name: fuel-type, dtype: int64"
            ]
          },
          "metadata": {},
          "execution_count": 76
        }
      ]
    },
    {
      "cell_type": "code",
      "source": [
        "dummy_variabel_fuel = pd.get_dummies(df[\"fuel-type\"])"
      ],
      "metadata": {
        "id": "tCC5z59IE8Jx"
      },
      "execution_count": 77,
      "outputs": []
    },
    {
      "cell_type": "code",
      "source": [
        "dummy_variabel_fuel.head()"
      ],
      "metadata": {
        "colab": {
          "base_uri": "https://localhost:8080/",
          "height": 206
        },
        "id": "3Z_f4PBNFH7C",
        "outputId": "d9fc43cd-1609-408f-e726-e5a525351bdb"
      },
      "execution_count": 80,
      "outputs": [
        {
          "output_type": "execute_result",
          "data": {
            "text/plain": [
              "   diesel  gas\n",
              "0       0    1\n",
              "1       0    1\n",
              "2       0    1\n",
              "3       0    1\n",
              "4       0    1"
            ],
            "text/html": [
              "\n",
              "  <div id=\"df-396208be-310d-48c1-994d-4d297a1fd99a\">\n",
              "    <div class=\"colab-df-container\">\n",
              "      <div>\n",
              "<style scoped>\n",
              "    .dataframe tbody tr th:only-of-type {\n",
              "        vertical-align: middle;\n",
              "    }\n",
              "\n",
              "    .dataframe tbody tr th {\n",
              "        vertical-align: top;\n",
              "    }\n",
              "\n",
              "    .dataframe thead th {\n",
              "        text-align: right;\n",
              "    }\n",
              "</style>\n",
              "<table border=\"1\" class=\"dataframe\">\n",
              "  <thead>\n",
              "    <tr style=\"text-align: right;\">\n",
              "      <th></th>\n",
              "      <th>diesel</th>\n",
              "      <th>gas</th>\n",
              "    </tr>\n",
              "  </thead>\n",
              "  <tbody>\n",
              "    <tr>\n",
              "      <th>0</th>\n",
              "      <td>0</td>\n",
              "      <td>1</td>\n",
              "    </tr>\n",
              "    <tr>\n",
              "      <th>1</th>\n",
              "      <td>0</td>\n",
              "      <td>1</td>\n",
              "    </tr>\n",
              "    <tr>\n",
              "      <th>2</th>\n",
              "      <td>0</td>\n",
              "      <td>1</td>\n",
              "    </tr>\n",
              "    <tr>\n",
              "      <th>3</th>\n",
              "      <td>0</td>\n",
              "      <td>1</td>\n",
              "    </tr>\n",
              "    <tr>\n",
              "      <th>4</th>\n",
              "      <td>0</td>\n",
              "      <td>1</td>\n",
              "    </tr>\n",
              "  </tbody>\n",
              "</table>\n",
              "</div>\n",
              "      <button class=\"colab-df-convert\" onclick=\"convertToInteractive('df-396208be-310d-48c1-994d-4d297a1fd99a')\"\n",
              "              title=\"Convert this dataframe to an interactive table.\"\n",
              "              style=\"display:none;\">\n",
              "        \n",
              "  <svg xmlns=\"http://www.w3.org/2000/svg\" height=\"24px\"viewBox=\"0 0 24 24\"\n",
              "       width=\"24px\">\n",
              "    <path d=\"M0 0h24v24H0V0z\" fill=\"none\"/>\n",
              "    <path d=\"M18.56 5.44l.94 2.06.94-2.06 2.06-.94-2.06-.94-.94-2.06-.94 2.06-2.06.94zm-11 1L8.5 8.5l.94-2.06 2.06-.94-2.06-.94L8.5 2.5l-.94 2.06-2.06.94zm10 10l.94 2.06.94-2.06 2.06-.94-2.06-.94-.94-2.06-.94 2.06-2.06.94z\"/><path d=\"M17.41 7.96l-1.37-1.37c-.4-.4-.92-.59-1.43-.59-.52 0-1.04.2-1.43.59L10.3 9.45l-7.72 7.72c-.78.78-.78 2.05 0 2.83L4 21.41c.39.39.9.59 1.41.59.51 0 1.02-.2 1.41-.59l7.78-7.78 2.81-2.81c.8-.78.8-2.07 0-2.86zM5.41 20L4 18.59l7.72-7.72 1.47 1.35L5.41 20z\"/>\n",
              "  </svg>\n",
              "      </button>\n",
              "      \n",
              "  <style>\n",
              "    .colab-df-container {\n",
              "      display:flex;\n",
              "      flex-wrap:wrap;\n",
              "      gap: 12px;\n",
              "    }\n",
              "\n",
              "    .colab-df-convert {\n",
              "      background-color: #E8F0FE;\n",
              "      border: none;\n",
              "      border-radius: 50%;\n",
              "      cursor: pointer;\n",
              "      display: none;\n",
              "      fill: #1967D2;\n",
              "      height: 32px;\n",
              "      padding: 0 0 0 0;\n",
              "      width: 32px;\n",
              "    }\n",
              "\n",
              "    .colab-df-convert:hover {\n",
              "      background-color: #E2EBFA;\n",
              "      box-shadow: 0px 1px 2px rgba(60, 64, 67, 0.3), 0px 1px 3px 1px rgba(60, 64, 67, 0.15);\n",
              "      fill: #174EA6;\n",
              "    }\n",
              "\n",
              "    [theme=dark] .colab-df-convert {\n",
              "      background-color: #3B4455;\n",
              "      fill: #D2E3FC;\n",
              "    }\n",
              "\n",
              "    [theme=dark] .colab-df-convert:hover {\n",
              "      background-color: #434B5C;\n",
              "      box-shadow: 0px 1px 3px 1px rgba(0, 0, 0, 0.15);\n",
              "      filter: drop-shadow(0px 1px 2px rgba(0, 0, 0, 0.3));\n",
              "      fill: #FFFFFF;\n",
              "    }\n",
              "  </style>\n",
              "\n",
              "      <script>\n",
              "        const buttonEl =\n",
              "          document.querySelector('#df-396208be-310d-48c1-994d-4d297a1fd99a button.colab-df-convert');\n",
              "        buttonEl.style.display =\n",
              "          google.colab.kernel.accessAllowed ? 'block' : 'none';\n",
              "\n",
              "        async function convertToInteractive(key) {\n",
              "          const element = document.querySelector('#df-396208be-310d-48c1-994d-4d297a1fd99a');\n",
              "          const dataTable =\n",
              "            await google.colab.kernel.invokeFunction('convertToInteractive',\n",
              "                                                     [key], {});\n",
              "          if (!dataTable) return;\n",
              "\n",
              "          const docLinkHtml = 'Like what you see? Visit the ' +\n",
              "            '<a target=\"_blank\" href=https://colab.research.google.com/notebooks/data_table.ipynb>data table notebook</a>'\n",
              "            + ' to learn more about interactive tables.';\n",
              "          element.innerHTML = '';\n",
              "          dataTable['output_type'] = 'display_data';\n",
              "          await google.colab.output.renderOutput(dataTable, element);\n",
              "          const docLink = document.createElement('div');\n",
              "          docLink.innerHTML = docLinkHtml;\n",
              "          element.appendChild(docLink);\n",
              "        }\n",
              "      </script>\n",
              "    </div>\n",
              "  </div>\n",
              "  "
            ]
          },
          "metadata": {},
          "execution_count": 80
        }
      ]
    },
    {
      "cell_type": "code",
      "source": [
        "# mengubah nama kolom diesesl dan gas\n",
        "dummy_variabel_fuel.rename(columns={\"diesel\" : \"fuel-type-diesel\", \"gas\" : \"fuel-type-gas\"}, inplace = True)"
      ],
      "metadata": {
        "id": "y57PbS81FL6i"
      },
      "execution_count": 82,
      "outputs": []
    },
    {
      "cell_type": "code",
      "source": [
        "# inisialisasi df baru dengan menggabungkan df dengan dummy_variabel fuel\n",
        "df = pd.concat([df, dummy_variabel_fuel], axis=1)"
      ],
      "metadata": {
        "id": "kKxLVBhEGHLh"
      },
      "execution_count": 84,
      "outputs": []
    },
    {
      "cell_type": "code",
      "source": [
        "# menghapus kolom \"fuel-type\", agar menggunakan data fuel type hasil one-hot-encoding saja\n",
        "df.drop(\"fuel-type\", axis=1, inplace=True)"
      ],
      "metadata": {
        "id": "9z5XEvViGroh"
      },
      "execution_count": 86,
      "outputs": []
    },
    {
      "cell_type": "code",
      "source": [
        "df"
      ],
      "metadata": {
        "colab": {
          "base_uri": "https://localhost:8080/",
          "height": 574
        },
        "id": "Zi-IknsVHCqA",
        "outputId": "95d3967e-bc88-46e5-ea2f-238f21047b0d"
      },
      "execution_count": 88,
      "outputs": [
        {
          "output_type": "execute_result",
          "data": {
            "text/plain": [
              "     symboling  normalized-losses         make aspiration num-of-doors  \\\n",
              "0            3              115.0  alfa-romero        std          two   \n",
              "1            3              115.0  alfa-romero        std          two   \n",
              "2            1              115.0  alfa-romero        std          two   \n",
              "3            2              164.0         audi        std         four   \n",
              "4            2              164.0         audi        std         four   \n",
              "..         ...                ...          ...        ...          ...   \n",
              "196         -1               95.0        volvo        std         four   \n",
              "197         -1               95.0        volvo      turbo         four   \n",
              "198         -1               95.0        volvo        std         four   \n",
              "199         -1               95.0        volvo      turbo         four   \n",
              "200         -1               95.0        volvo      turbo         four   \n",
              "\n",
              "      body-style drive-wheels engine-location  wheel-base    length  ...  \\\n",
              "0    convertible          rwd           front        88.6  0.413433  ...   \n",
              "1    convertible          rwd           front        88.6  0.413433  ...   \n",
              "2      hatchback          rwd           front        94.5  0.449254  ...   \n",
              "3          sedan          fwd           front        99.8  0.529851  ...   \n",
              "4          sedan          4wd           front        99.4  0.529851  ...   \n",
              "..           ...          ...             ...         ...       ...  ...   \n",
              "196        sedan          rwd           front       109.1  0.711940  ...   \n",
              "197        sedan          rwd           front       109.1  0.711940  ...   \n",
              "198        sedan          rwd           front       109.1  0.711940  ...   \n",
              "199        sedan          rwd           front       109.1  0.711940  ...   \n",
              "200        sedan          rwd           front       109.1  0.711940  ...   \n",
              "\n",
              "     bore  stroke  compression-ratio horsepower peak-rpm  city-mpg  \\\n",
              "0    3.47    2.68                9.0        111   5000.0        21   \n",
              "1    3.47    2.68                9.0        111   5000.0        21   \n",
              "2    2.68    3.47                9.0        154   5000.0        19   \n",
              "3    3.19    3.40               10.0        102   5500.0        24   \n",
              "4    3.19    3.40                8.0        115   5500.0        18   \n",
              "..    ...     ...                ...        ...      ...       ...   \n",
              "196  3.78    3.15                9.5        114   5400.0        23   \n",
              "197  3.78    3.15                8.7        160   5300.0        19   \n",
              "198  3.58    2.87                8.8        134   5500.0        18   \n",
              "199  3.01    3.40               23.0        106   4800.0        26   \n",
              "200  3.78    3.15                9.5        114   5400.0        19   \n",
              "\n",
              "    highway-mpg    price  fuel-type-diesel  fuel-type-gas  \n",
              "0            27  13495.0                 0              1  \n",
              "1            27  16500.0                 0              1  \n",
              "2            26  16500.0                 0              1  \n",
              "3            30  13950.0                 0              1  \n",
              "4            22  17450.0                 0              1  \n",
              "..          ...      ...               ...            ...  \n",
              "196          28  16845.0                 0              1  \n",
              "197          25  19045.0                 0              1  \n",
              "198          23  21485.0                 0              1  \n",
              "199          27  22470.0                 1              0  \n",
              "200          25  22625.0                 0              1  \n",
              "\n",
              "[201 rows x 27 columns]"
            ],
            "text/html": [
              "\n",
              "  <div id=\"df-bb2f3fa2-0cdd-422b-81c9-18945117b1a2\">\n",
              "    <div class=\"colab-df-container\">\n",
              "      <div>\n",
              "<style scoped>\n",
              "    .dataframe tbody tr th:only-of-type {\n",
              "        vertical-align: middle;\n",
              "    }\n",
              "\n",
              "    .dataframe tbody tr th {\n",
              "        vertical-align: top;\n",
              "    }\n",
              "\n",
              "    .dataframe thead th {\n",
              "        text-align: right;\n",
              "    }\n",
              "</style>\n",
              "<table border=\"1\" class=\"dataframe\">\n",
              "  <thead>\n",
              "    <tr style=\"text-align: right;\">\n",
              "      <th></th>\n",
              "      <th>symboling</th>\n",
              "      <th>normalized-losses</th>\n",
              "      <th>make</th>\n",
              "      <th>aspiration</th>\n",
              "      <th>num-of-doors</th>\n",
              "      <th>body-style</th>\n",
              "      <th>drive-wheels</th>\n",
              "      <th>engine-location</th>\n",
              "      <th>wheel-base</th>\n",
              "      <th>length</th>\n",
              "      <th>...</th>\n",
              "      <th>bore</th>\n",
              "      <th>stroke</th>\n",
              "      <th>compression-ratio</th>\n",
              "      <th>horsepower</th>\n",
              "      <th>peak-rpm</th>\n",
              "      <th>city-mpg</th>\n",
              "      <th>highway-mpg</th>\n",
              "      <th>price</th>\n",
              "      <th>fuel-type-diesel</th>\n",
              "      <th>fuel-type-gas</th>\n",
              "    </tr>\n",
              "  </thead>\n",
              "  <tbody>\n",
              "    <tr>\n",
              "      <th>0</th>\n",
              "      <td>3</td>\n",
              "      <td>115.0</td>\n",
              "      <td>alfa-romero</td>\n",
              "      <td>std</td>\n",
              "      <td>two</td>\n",
              "      <td>convertible</td>\n",
              "      <td>rwd</td>\n",
              "      <td>front</td>\n",
              "      <td>88.6</td>\n",
              "      <td>0.413433</td>\n",
              "      <td>...</td>\n",
              "      <td>3.47</td>\n",
              "      <td>2.68</td>\n",
              "      <td>9.0</td>\n",
              "      <td>111</td>\n",
              "      <td>5000.0</td>\n",
              "      <td>21</td>\n",
              "      <td>27</td>\n",
              "      <td>13495.0</td>\n",
              "      <td>0</td>\n",
              "      <td>1</td>\n",
              "    </tr>\n",
              "    <tr>\n",
              "      <th>1</th>\n",
              "      <td>3</td>\n",
              "      <td>115.0</td>\n",
              "      <td>alfa-romero</td>\n",
              "      <td>std</td>\n",
              "      <td>two</td>\n",
              "      <td>convertible</td>\n",
              "      <td>rwd</td>\n",
              "      <td>front</td>\n",
              "      <td>88.6</td>\n",
              "      <td>0.413433</td>\n",
              "      <td>...</td>\n",
              "      <td>3.47</td>\n",
              "      <td>2.68</td>\n",
              "      <td>9.0</td>\n",
              "      <td>111</td>\n",
              "      <td>5000.0</td>\n",
              "      <td>21</td>\n",
              "      <td>27</td>\n",
              "      <td>16500.0</td>\n",
              "      <td>0</td>\n",
              "      <td>1</td>\n",
              "    </tr>\n",
              "    <tr>\n",
              "      <th>2</th>\n",
              "      <td>1</td>\n",
              "      <td>115.0</td>\n",
              "      <td>alfa-romero</td>\n",
              "      <td>std</td>\n",
              "      <td>two</td>\n",
              "      <td>hatchback</td>\n",
              "      <td>rwd</td>\n",
              "      <td>front</td>\n",
              "      <td>94.5</td>\n",
              "      <td>0.449254</td>\n",
              "      <td>...</td>\n",
              "      <td>2.68</td>\n",
              "      <td>3.47</td>\n",
              "      <td>9.0</td>\n",
              "      <td>154</td>\n",
              "      <td>5000.0</td>\n",
              "      <td>19</td>\n",
              "      <td>26</td>\n",
              "      <td>16500.0</td>\n",
              "      <td>0</td>\n",
              "      <td>1</td>\n",
              "    </tr>\n",
              "    <tr>\n",
              "      <th>3</th>\n",
              "      <td>2</td>\n",
              "      <td>164.0</td>\n",
              "      <td>audi</td>\n",
              "      <td>std</td>\n",
              "      <td>four</td>\n",
              "      <td>sedan</td>\n",
              "      <td>fwd</td>\n",
              "      <td>front</td>\n",
              "      <td>99.8</td>\n",
              "      <td>0.529851</td>\n",
              "      <td>...</td>\n",
              "      <td>3.19</td>\n",
              "      <td>3.40</td>\n",
              "      <td>10.0</td>\n",
              "      <td>102</td>\n",
              "      <td>5500.0</td>\n",
              "      <td>24</td>\n",
              "      <td>30</td>\n",
              "      <td>13950.0</td>\n",
              "      <td>0</td>\n",
              "      <td>1</td>\n",
              "    </tr>\n",
              "    <tr>\n",
              "      <th>4</th>\n",
              "      <td>2</td>\n",
              "      <td>164.0</td>\n",
              "      <td>audi</td>\n",
              "      <td>std</td>\n",
              "      <td>four</td>\n",
              "      <td>sedan</td>\n",
              "      <td>4wd</td>\n",
              "      <td>front</td>\n",
              "      <td>99.4</td>\n",
              "      <td>0.529851</td>\n",
              "      <td>...</td>\n",
              "      <td>3.19</td>\n",
              "      <td>3.40</td>\n",
              "      <td>8.0</td>\n",
              "      <td>115</td>\n",
              "      <td>5500.0</td>\n",
              "      <td>18</td>\n",
              "      <td>22</td>\n",
              "      <td>17450.0</td>\n",
              "      <td>0</td>\n",
              "      <td>1</td>\n",
              "    </tr>\n",
              "    <tr>\n",
              "      <th>...</th>\n",
              "      <td>...</td>\n",
              "      <td>...</td>\n",
              "      <td>...</td>\n",
              "      <td>...</td>\n",
              "      <td>...</td>\n",
              "      <td>...</td>\n",
              "      <td>...</td>\n",
              "      <td>...</td>\n",
              "      <td>...</td>\n",
              "      <td>...</td>\n",
              "      <td>...</td>\n",
              "      <td>...</td>\n",
              "      <td>...</td>\n",
              "      <td>...</td>\n",
              "      <td>...</td>\n",
              "      <td>...</td>\n",
              "      <td>...</td>\n",
              "      <td>...</td>\n",
              "      <td>...</td>\n",
              "      <td>...</td>\n",
              "      <td>...</td>\n",
              "    </tr>\n",
              "    <tr>\n",
              "      <th>196</th>\n",
              "      <td>-1</td>\n",
              "      <td>95.0</td>\n",
              "      <td>volvo</td>\n",
              "      <td>std</td>\n",
              "      <td>four</td>\n",
              "      <td>sedan</td>\n",
              "      <td>rwd</td>\n",
              "      <td>front</td>\n",
              "      <td>109.1</td>\n",
              "      <td>0.711940</td>\n",
              "      <td>...</td>\n",
              "      <td>3.78</td>\n",
              "      <td>3.15</td>\n",
              "      <td>9.5</td>\n",
              "      <td>114</td>\n",
              "      <td>5400.0</td>\n",
              "      <td>23</td>\n",
              "      <td>28</td>\n",
              "      <td>16845.0</td>\n",
              "      <td>0</td>\n",
              "      <td>1</td>\n",
              "    </tr>\n",
              "    <tr>\n",
              "      <th>197</th>\n",
              "      <td>-1</td>\n",
              "      <td>95.0</td>\n",
              "      <td>volvo</td>\n",
              "      <td>turbo</td>\n",
              "      <td>four</td>\n",
              "      <td>sedan</td>\n",
              "      <td>rwd</td>\n",
              "      <td>front</td>\n",
              "      <td>109.1</td>\n",
              "      <td>0.711940</td>\n",
              "      <td>...</td>\n",
              "      <td>3.78</td>\n",
              "      <td>3.15</td>\n",
              "      <td>8.7</td>\n",
              "      <td>160</td>\n",
              "      <td>5300.0</td>\n",
              "      <td>19</td>\n",
              "      <td>25</td>\n",
              "      <td>19045.0</td>\n",
              "      <td>0</td>\n",
              "      <td>1</td>\n",
              "    </tr>\n",
              "    <tr>\n",
              "      <th>198</th>\n",
              "      <td>-1</td>\n",
              "      <td>95.0</td>\n",
              "      <td>volvo</td>\n",
              "      <td>std</td>\n",
              "      <td>four</td>\n",
              "      <td>sedan</td>\n",
              "      <td>rwd</td>\n",
              "      <td>front</td>\n",
              "      <td>109.1</td>\n",
              "      <td>0.711940</td>\n",
              "      <td>...</td>\n",
              "      <td>3.58</td>\n",
              "      <td>2.87</td>\n",
              "      <td>8.8</td>\n",
              "      <td>134</td>\n",
              "      <td>5500.0</td>\n",
              "      <td>18</td>\n",
              "      <td>23</td>\n",
              "      <td>21485.0</td>\n",
              "      <td>0</td>\n",
              "      <td>1</td>\n",
              "    </tr>\n",
              "    <tr>\n",
              "      <th>199</th>\n",
              "      <td>-1</td>\n",
              "      <td>95.0</td>\n",
              "      <td>volvo</td>\n",
              "      <td>turbo</td>\n",
              "      <td>four</td>\n",
              "      <td>sedan</td>\n",
              "      <td>rwd</td>\n",
              "      <td>front</td>\n",
              "      <td>109.1</td>\n",
              "      <td>0.711940</td>\n",
              "      <td>...</td>\n",
              "      <td>3.01</td>\n",
              "      <td>3.40</td>\n",
              "      <td>23.0</td>\n",
              "      <td>106</td>\n",
              "      <td>4800.0</td>\n",
              "      <td>26</td>\n",
              "      <td>27</td>\n",
              "      <td>22470.0</td>\n",
              "      <td>1</td>\n",
              "      <td>0</td>\n",
              "    </tr>\n",
              "    <tr>\n",
              "      <th>200</th>\n",
              "      <td>-1</td>\n",
              "      <td>95.0</td>\n",
              "      <td>volvo</td>\n",
              "      <td>turbo</td>\n",
              "      <td>four</td>\n",
              "      <td>sedan</td>\n",
              "      <td>rwd</td>\n",
              "      <td>front</td>\n",
              "      <td>109.1</td>\n",
              "      <td>0.711940</td>\n",
              "      <td>...</td>\n",
              "      <td>3.78</td>\n",
              "      <td>3.15</td>\n",
              "      <td>9.5</td>\n",
              "      <td>114</td>\n",
              "      <td>5400.0</td>\n",
              "      <td>19</td>\n",
              "      <td>25</td>\n",
              "      <td>22625.0</td>\n",
              "      <td>0</td>\n",
              "      <td>1</td>\n",
              "    </tr>\n",
              "  </tbody>\n",
              "</table>\n",
              "<p>201 rows × 27 columns</p>\n",
              "</div>\n",
              "      <button class=\"colab-df-convert\" onclick=\"convertToInteractive('df-bb2f3fa2-0cdd-422b-81c9-18945117b1a2')\"\n",
              "              title=\"Convert this dataframe to an interactive table.\"\n",
              "              style=\"display:none;\">\n",
              "        \n",
              "  <svg xmlns=\"http://www.w3.org/2000/svg\" height=\"24px\"viewBox=\"0 0 24 24\"\n",
              "       width=\"24px\">\n",
              "    <path d=\"M0 0h24v24H0V0z\" fill=\"none\"/>\n",
              "    <path d=\"M18.56 5.44l.94 2.06.94-2.06 2.06-.94-2.06-.94-.94-2.06-.94 2.06-2.06.94zm-11 1L8.5 8.5l.94-2.06 2.06-.94-2.06-.94L8.5 2.5l-.94 2.06-2.06.94zm10 10l.94 2.06.94-2.06 2.06-.94-2.06-.94-.94-2.06-.94 2.06-2.06.94z\"/><path d=\"M17.41 7.96l-1.37-1.37c-.4-.4-.92-.59-1.43-.59-.52 0-1.04.2-1.43.59L10.3 9.45l-7.72 7.72c-.78.78-.78 2.05 0 2.83L4 21.41c.39.39.9.59 1.41.59.51 0 1.02-.2 1.41-.59l7.78-7.78 2.81-2.81c.8-.78.8-2.07 0-2.86zM5.41 20L4 18.59l7.72-7.72 1.47 1.35L5.41 20z\"/>\n",
              "  </svg>\n",
              "      </button>\n",
              "      \n",
              "  <style>\n",
              "    .colab-df-container {\n",
              "      display:flex;\n",
              "      flex-wrap:wrap;\n",
              "      gap: 12px;\n",
              "    }\n",
              "\n",
              "    .colab-df-convert {\n",
              "      background-color: #E8F0FE;\n",
              "      border: none;\n",
              "      border-radius: 50%;\n",
              "      cursor: pointer;\n",
              "      display: none;\n",
              "      fill: #1967D2;\n",
              "      height: 32px;\n",
              "      padding: 0 0 0 0;\n",
              "      width: 32px;\n",
              "    }\n",
              "\n",
              "    .colab-df-convert:hover {\n",
              "      background-color: #E2EBFA;\n",
              "      box-shadow: 0px 1px 2px rgba(60, 64, 67, 0.3), 0px 1px 3px 1px rgba(60, 64, 67, 0.15);\n",
              "      fill: #174EA6;\n",
              "    }\n",
              "\n",
              "    [theme=dark] .colab-df-convert {\n",
              "      background-color: #3B4455;\n",
              "      fill: #D2E3FC;\n",
              "    }\n",
              "\n",
              "    [theme=dark] .colab-df-convert:hover {\n",
              "      background-color: #434B5C;\n",
              "      box-shadow: 0px 1px 3px 1px rgba(0, 0, 0, 0.15);\n",
              "      filter: drop-shadow(0px 1px 2px rgba(0, 0, 0, 0.3));\n",
              "      fill: #FFFFFF;\n",
              "    }\n",
              "  </style>\n",
              "\n",
              "      <script>\n",
              "        const buttonEl =\n",
              "          document.querySelector('#df-bb2f3fa2-0cdd-422b-81c9-18945117b1a2 button.colab-df-convert');\n",
              "        buttonEl.style.display =\n",
              "          google.colab.kernel.accessAllowed ? 'block' : 'none';\n",
              "\n",
              "        async function convertToInteractive(key) {\n",
              "          const element = document.querySelector('#df-bb2f3fa2-0cdd-422b-81c9-18945117b1a2');\n",
              "          const dataTable =\n",
              "            await google.colab.kernel.invokeFunction('convertToInteractive',\n",
              "                                                     [key], {});\n",
              "          if (!dataTable) return;\n",
              "\n",
              "          const docLinkHtml = 'Like what you see? Visit the ' +\n",
              "            '<a target=\"_blank\" href=https://colab.research.google.com/notebooks/data_table.ipynb>data table notebook</a>'\n",
              "            + ' to learn more about interactive tables.';\n",
              "          element.innerHTML = '';\n",
              "          dataTable['output_type'] = 'display_data';\n",
              "          await google.colab.output.renderOutput(dataTable, element);\n",
              "          const docLink = document.createElement('div');\n",
              "          docLink.innerHTML = docLinkHtml;\n",
              "          element.appendChild(docLink);\n",
              "        }\n",
              "      </script>\n",
              "    </div>\n",
              "  </div>\n",
              "  "
            ]
          },
          "metadata": {},
          "execution_count": 88
        }
      ]
    },
    {
      "cell_type": "code",
      "source": [
        ""
      ],
      "metadata": {
        "id": "5XTFd3l4Hc-x"
      },
      "execution_count": null,
      "outputs": []
    }
  ]
}